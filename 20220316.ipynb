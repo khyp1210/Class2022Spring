{
  "nbformat": 4,
  "nbformat_minor": 0,
  "metadata": {
    "kernelspec": {
      "display_name": "Python 3",
      "language": "python",
      "name": "python3"
    },
    "language_info": {
      "codemirror_mode": {
        "name": "ipython",
        "version": 3
      },
      "file_extension": ".py",
      "mimetype": "text/x-python",
      "name": "python",
      "nbconvert_exporter": "python",
      "pygments_lexer": "ipython3",
      "version": "3.7.1"
    },
    "colab": {
      "name": "20220316",
      "provenance": [],
      "collapsed_sections": [],
      "include_colab_link": true
    }
  },
  "cells": [
    {
      "cell_type": "markdown",
      "metadata": {
        "id": "view-in-github",
        "colab_type": "text"
      },
      "source": [
        "<a href=\"https://colab.research.google.com/github/khyp1210/Class2022Spring/blob/main/20220316.ipynb\" target=\"_parent\"><img src=\"https://colab.research.google.com/assets/colab-badge.svg\" alt=\"Open In Colab\"/></a>"
      ]
    },
    {
      "cell_type": "markdown",
      "source": [
        "Variables"
      ],
      "metadata": {
        "id": "q2Cskg2JKQbL"
      }
    },
    {
      "cell_type": "code",
      "metadata": {
        "id": "goAyoU7vRheI",
        "outputId": "068731d9-7186-453a-9a6b-b437acc64bc5",
        "colab": {
          "base_uri": "https://localhost:8080/"
        }
      },
      "source": [
        "a = 1; print(type(a)) #변수 a는 정수 1이며, print 함수가 input의 class를 출력하는 type함수의 output을 받아서 출력한다."
      ],
      "execution_count": null,
      "outputs": [
        {
          "output_type": "stream",
          "name": "stdout",
          "text": [
            "<class 'int'>\n"
          ]
        }
      ]
    },
    {
      "cell_type": "code",
      "metadata": {
        "id": "txxnoqJuRheJ",
        "outputId": "fac1233b-b1e0-41b4-ea3c-94ad0c7104ec",
        "colab": {
          "base_uri": "https://localhost:8080/"
        }
      },
      "source": [
        "a = 1.1; print(type(a)) #a는 실수이며 따라 float class를 갖는다."
      ],
      "execution_count": null,
      "outputs": [
        {
          "output_type": "stream",
          "name": "stdout",
          "text": [
            "<class 'float'>\n"
          ]
        }
      ]
    },
    {
      "cell_type": "code",
      "metadata": {
        "id": "SyP0PB86RheL",
        "outputId": "e10d274f-e7fd-4cdd-a822-847fb83560ec"
      },
      "source": [
        "a = '123'; print(type(a)); print(a[1]) #a의 값은 '~' 꼴로 이루어진 문자열이며 [ ]통해 인덱싱 가능하다."
      ],
      "execution_count": null,
      "outputs": [
        {
          "output_type": "stream",
          "text": [
            "<class 'str'>\n",
            "2\n"
          ],
          "name": "stdout"
        }
      ]
    },
    {
      "cell_type": "code",
      "metadata": {
        "id": "EKYj0dvIHPo0",
        "outputId": "a1237ded-1b0a-4ec6-e393-09846b2194a5",
        "colab": {
          "base_uri": "https://localhost:8080/"
        }
      },
      "source": [
        "a = 'hello'; print(type(a)); print(a[1]) #마찬가지로 문자열, 파이썬은 0부터 값 저장하기에 a[1]은 2번째에 해당하는 e가 된다."
      ],
      "execution_count": null,
      "outputs": [
        {
          "output_type": "stream",
          "name": "stdout",
          "text": [
            "<class 'str'>\n",
            "e\n"
          ]
        }
      ]
    },
    {
      "cell_type": "code",
      "metadata": {
        "id": "Df6PhU-tHXr2",
        "outputId": "3e99729c-3214-4756-e692-1522f494a01e",
        "colab": {
          "base_uri": "https://localhost:8080/"
        }
      },
      "source": [
        "a = [1, 2, 3, 4]; print(type(a)); print(a[0]) #[ ]꼴로 list 자료형을 선언할 수 있다. list 역시 인덱싱 가능하다. "
      ],
      "execution_count": null,
      "outputs": [
        {
          "output_type": "stream",
          "name": "stdout",
          "text": [
            "<class 'list'>\n",
            "1\n"
          ]
        }
      ]
    },
    {
      "cell_type": "code",
      "metadata": {
        "id": "DfS-gknCRheL",
        "outputId": "ff76fc0a-73db-43fc-bb86-946381a6cb4d",
        "colab": {
          "base_uri": "https://localhost:8080/"
        }
      },
      "source": [
        "a = [1,'a', [3, '4']]; print(type(a)); print(a[0]); print(a[1]); print(a[2]); print(a[2][1]) #list자료형의 원소로 list를 받은 다중 list구조이다. a[2][1]은 a list의 3번째에 해당하는 [3.'4'] list의 2번째에 해당하는 원소를 출력하라는 뜻으로 4가 나온다."
      ],
      "execution_count": null,
      "outputs": [
        {
          "output_type": "stream",
          "name": "stdout",
          "text": [
            "<class 'list'>\n",
            "1\n",
            "a\n",
            "[3, '4']\n",
            "4\n"
          ]
        }
      ]
    },
    {
      "cell_type": "code",
      "metadata": {
        "id": "2sivfloGRheM",
        "outputId": "5c768bb7-e02b-4c87-a76e-3e992cdb244e"
      },
      "source": [
        "a =\t{\"a\": \"apple\", \"b\": \"orange\", \"c\": 2014} #a는 dict class로 key 값과 value 값으로 구성된 자료형이다.\n",
        "print(type(a)) #a의 class를 출력한다.\n",
        "print(a[\"a\"]) #dict의 key값을 [ ]에 집어넣음으로써 \"a\"의 value에 해당하는 apple을 호출할 수 있다."
      ],
      "execution_count": null,
      "outputs": [
        {
          "output_type": "stream",
          "text": [
            "<class 'dict'>\n",
            "apple\n"
          ],
          "name": "stdout"
        }
      ]
    },
    {
      "cell_type": "markdown",
      "source": [
        "Syntax"
      ],
      "metadata": {
        "id": "wrPzriAYMvug"
      }
    },
    {
      "cell_type": "code",
      "source": [
        "a = [1, 2, 3, 4]\n",
        "for i in a:          #for문은 iterable한 값을 받아 반복해줌\n",
        "    print(i)         #list a의 첫번쨰 값부터 마지막 값까지 반복되며 출력"
      ],
      "metadata": {
        "id": "5bZUqRYpM1rL",
        "outputId": "b95da3c3-6553-4a39-9d9a-4cdc8692a7f6",
        "colab": {
          "base_uri": "https://localhost:8080/"
        }
      },
      "execution_count": null,
      "outputs": [
        {
          "output_type": "stream",
          "name": "stdout",
          "text": [
            "1\n",
            "2\n",
            "3\n",
            "4\n"
          ]
        }
      ]
    },
    {
      "cell_type": "code",
      "source": [
        "a = [1, 2, 3, 4]\n",
        "for i in range(len(a)): #입력값의 길이를 출력해주는 len함수의 출력값을 범위를 만들어주는 range함수의 입력값으로 받는다. a는 길이가 4이기에, range 함수는 4까지 반복되는 범위를 출력할 것이다.\n",
        "    print(a[i])"
      ],
      "metadata": {
        "id": "uQatYGOMM5FE",
        "outputId": "5bb641f6-8b36-48fe-dc75-13db1a4034cc",
        "colab": {
          "base_uri": "https://localhost:8080/"
        }
      },
      "execution_count": null,
      "outputs": [
        {
          "output_type": "stream",
          "name": "stdout",
          "text": [
            "1\n",
            "2\n",
            "3\n",
            "4\n"
          ]
        }
      ]
    },
    {
      "cell_type": "code",
      "source": [
        "a = ['red', 'green', 'blue', 'purple'] #문자열로 구성된 리스트\n",
        "for i in a: #for문을 통해 리스트의 문자열 하나씩 반복된다.\n",
        "    print(i)"
      ],
      "metadata": {
        "id": "VYAGQ_2XM57r",
        "outputId": "c5ff5d00-9fcc-4a4e-9449-f7a79e25cc95",
        "colab": {
          "base_uri": "https://localhost:8080/"
        }
      },
      "execution_count": null,
      "outputs": [
        {
          "output_type": "stream",
          "name": "stdout",
          "text": [
            "red\n",
            "green\n",
            "blue\n",
            "purple\n"
          ]
        }
      ]
    },
    {
      "cell_type": "code",
      "source": [
        "a = ['red', 'green', 'blue', 'purple']\n",
        "for i in range(len(a)): #range함수의 값은 range(0,4)가 나올텐데 for문을 통해 차례로 0, 1, 2, 3 값이 반복될 것\n",
        "    print(a[i]) #list a의 i번째 원소를 출력."
      ],
      "metadata": {
        "id": "-hupIqF3M7TG",
        "outputId": "fd7eefb3-2ae3-43d0-b0ac-15b7211bd5e7",
        "colab": {
          "base_uri": "https://localhost:8080/"
        }
      },
      "execution_count": null,
      "outputs": [
        {
          "output_type": "stream",
          "name": "stdout",
          "text": [
            "red\n",
            "green\n",
            "blue\n",
            "purple\n"
          ]
        }
      ]
    },
    {
      "cell_type": "code",
      "source": [
        "a = 0\n",
        "if a == 0: #a 값이 0이라면 a값이 그대로 출력된다.\n",
        "    print(a)\n",
        "else: #그렇지 않다면 +1을 한 값이 출력된다.\n",
        "    print(a+1)"
      ],
      "metadata": {
        "id": "EZTpYTMdM8hV",
        "outputId": "83a5fd13-bc2a-467f-a86b-32ae7f174d03",
        "colab": {
          "base_uri": "https://localhost:8080/"
        }
      },
      "execution_count": null,
      "outputs": [
        {
          "output_type": "stream",
          "name": "stdout",
          "text": [
            "0\n"
          ]
        }
      ]
    },
    {
      "cell_type": "code",
      "source": [
        "for i in range(1, 3): #range(1,3)에 해당하는 범위 반복. 따라 i는 1, 이후 2가 될 것\n",
        "    for j in range(3, 5): #range (3,5)에 해당하는 범위 반복. 따라 j는 3, 이후 4가 될 것.\n",
        "        print(i*j) #i=1일 때 j=3 => 3 i=1일 때 j=4 => 4, i=2일 때 j=3 => 6 i=2일 때 j=4 => 8"
      ],
      "metadata": {
        "id": "b0Yi4cHKM930",
        "outputId": "a52c5fa2-855d-4b92-c3f7-44dcce180c31",
        "colab": {
          "base_uri": "https://localhost:8080/"
        }
      },
      "execution_count": null,
      "outputs": [
        {
          "output_type": "stream",
          "name": "stdout",
          "text": [
            "3\n",
            "4\n",
            "6\n",
            "8\n"
          ]
        }
      ]
    },
    {
      "cell_type": "code",
      "source": [
        "for i in range(1, 3):\n",
        "    for j in range(3, 5):\n",
        "        if j >=4: #위와 같은 if문 구조이나, j가 4인 경우에만 print를 통해 값을 출력한다.\n",
        "            print(i*j)"
      ],
      "metadata": {
        "id": "FHU5l4F2M_Ko",
        "outputId": "f6271205-5faa-45cf-985d-d1c043cca5bc",
        "colab": {
          "base_uri": "https://localhost:8080/"
        }
      },
      "execution_count": null,
      "outputs": [
        {
          "output_type": "stream",
          "name": "stdout",
          "text": [
            "4\n",
            "8\n"
          ]
        }
      ]
    },
    {
      "cell_type": "code",
      "source": [
        "a = [1, 2, 3, 4]\n",
        "b = [i for i in a if i >=2] #list comprehension 구조로 for문을 반복하며 if 조건문을 만족하는 i만을 담은 리스트 값을 출력한다.\n",
        "b"
      ],
      "metadata": {
        "id": "oAvYUehZNAbI",
        "outputId": "f80067db-3b3d-4c33-f934-d5c6be5bc1af",
        "colab": {
          "base_uri": "https://localhost:8080/"
        }
      },
      "execution_count": null,
      "outputs": [
        {
          "output_type": "execute_result",
          "data": {
            "text/plain": [
              "[2, 3, 4]"
            ]
          },
          "metadata": {},
          "execution_count": 8
        }
      ]
    },
    {
      "cell_type": "code",
      "source": [
        "a = ['red', 'green', 'blue', 'purple']\n",
        "b = [i for i in a if len(i) >=4] #a에 있는 원소 중 길이가 4이상인 원소만 담은 리스트를 b로 선언한다.\n",
        "b"
      ],
      "metadata": {
        "id": "8ieLvroyNCVi",
        "outputId": "68813bab-430c-4be4-ec71-d2b1f2628b40",
        "colab": {
          "base_uri": "https://localhost:8080/"
        }
      },
      "execution_count": null,
      "outputs": [
        {
          "output_type": "execute_result",
          "data": {
            "text/plain": [
              "['green', 'blue', 'purple']"
            ]
          },
          "metadata": {},
          "execution_count": 9
        }
      ]
    },
    {
      "cell_type": "code",
      "source": [
        "a = ['red', 'green', 'blue', 'purple']\n",
        "b = [1, 2, 3, 4]\n",
        "c = {a[i]:b[i] for i in range(4)} #range 함수에 따라 0~3의 값을 돌며 a의 i번쨰 원소를 key 값으로, b의 i번째 원소를 value 값으로 가지는 dict 자료형을 만든다.\n",
        "c"
      ],
      "metadata": {
        "id": "aSbMitqYNC4P",
        "outputId": "46353cff-1092-4fe8-c981-ead3352fff08",
        "colab": {
          "base_uri": "https://localhost:8080/"
        }
      },
      "execution_count": null,
      "outputs": [
        {
          "output_type": "execute_result",
          "data": {
            "text/plain": [
              "{'blue': 3, 'green': 2, 'purple': 4, 'red': 1}"
            ]
          },
          "metadata": {},
          "execution_count": 10
        }
      ]
    },
    {
      "cell_type": "markdown",
      "source": [
        "function"
      ],
      "metadata": {
        "id": "0Xilei1UP9nS"
      }
    },
    {
      "cell_type": "code",
      "source": [
        "def add(a,b): #add라는 이름의 함수는 a, b를 입력으로 받으며 a+b값을 출력한다.\n",
        "  return a+b\n",
        "\n",
        "def subtract(a,b): #subtract라는 이름의 함수는 a, b를 입력으로 받으며 a-b값을 출력한다.\n",
        "  return a-b\n",
        "\n",
        "def multiply(a,b): #multiply라는 이름의 함수는 a, b를 입력으로 받으며 a*b값을 출력한다.\n",
        "  return a*b\n",
        "\n",
        "def divide(a,b): #divide라는 이름의 함수는 a, b를 입력으로 받으며 a/b값을 출력한다.\n",
        "  return a/b"
      ],
      "metadata": {
        "id": "2zjaB7RDQFj1"
      },
      "execution_count": null,
      "outputs": []
    },
    {
      "cell_type": "code",
      "source": [
        "c = add(1,2); print(c) #위에서 만들어둔 함수를 통해 1,2를 입력으로 받아 사칙연산 진행\n",
        "c = subtract(1,2); print(c) #위에서 만들어둔 함수를 통해 1,2를 입력으로 받아 사칙연산 진행\n",
        "c = multiply(1,2); print(c) #위에서 만들어둔 함수를 통해 1,2를 입력으로 받아 사칙연산 진행\n",
        "c = divide(1,2); print(c) #위에서 만들어둔 함수를 통해 1,2를 입력으로 받아 사칙연산 진행"
      ],
      "metadata": {
        "colab": {
          "base_uri": "https://localhost:8080/"
        },
        "id": "bbrlUQpHQGTj",
        "outputId": "750b1b19-4242-45e5-ce64-461335984125"
      },
      "execution_count": null,
      "outputs": [
        {
          "output_type": "stream",
          "name": "stdout",
          "text": [
            "3\n",
            "-1\n",
            "2\n",
            "0.5\n"
          ]
        }
      ]
    },
    {
      "cell_type": "markdown",
      "source": [
        "String"
      ],
      "metadata": {
        "id": "DLl5BEj_QrY9"
      }
    },
    {
      "cell_type": "code",
      "source": [
        "s = 'abcdef' #문자열 abcdef 선언\n",
        "print(s[0], s[5], s[-1], s[-6]) #파이썬은 0번째부터 시작. -1은 뒤에서 첫번째라는 뜻\n",
        "print(s[1:3], s[1:], s[:3], s[:]) #[n:k]인덱싱. n번째부터 k번째 전까지에 해당하는 값을 출력한다. 비워두면 끝까지 출력한다."
      ],
      "metadata": {
        "colab": {
          "base_uri": "https://localhost:8080/"
        },
        "id": "lJPAB_T8QwOO",
        "outputId": "f97d795e-d6a2-40e6-c84b-37029c7d93b6"
      },
      "execution_count": null,
      "outputs": [
        {
          "output_type": "stream",
          "name": "stdout",
          "text": [
            "a f f a\n",
            "bc bcdef abc abcdef\n"
          ]
        }
      ]
    },
    {
      "cell_type": "code",
      "source": [
        "n = [100, 200, 300]\n",
        "print(n[0], n[2], n[-1], n[-3]) #list도 동일하게 인덱싱한다.\n",
        "print(n[1:2], n[1:], n[:2], n[:])"
      ],
      "metadata": {
        "colab": {
          "base_uri": "https://localhost:8080/"
        },
        "id": "jKYPbqg9QwoI",
        "outputId": "3c6b7b78-5386-4e12-975b-cd681bf28f2c"
      },
      "execution_count": null,
      "outputs": [
        {
          "output_type": "stream",
          "name": "stdout",
          "text": [
            "100 300 300 100\n",
            "[200] [200, 300] [100, 200] [100, 200, 300]\n"
          ]
        }
      ]
    },
    {
      "cell_type": "code",
      "source": [
        "len(s) #길이를 출력하는 len 함수"
      ],
      "metadata": {
        "colab": {
          "base_uri": "https://localhost:8080/"
        },
        "id": "iMLYKdH7Qyes",
        "outputId": "3dd4324c-cf0e-42a6-fef6-8f1ddda88f02"
      },
      "execution_count": null,
      "outputs": [
        {
          "output_type": "execute_result",
          "data": {
            "text/plain": [
              "6"
            ]
          },
          "metadata": {},
          "execution_count": 5
        }
      ]
    },
    {
      "cell_type": "code",
      "source": [
        "s[1]+s[3]+s[4:]*10 #인덱싱을 통해 출력된 문자열끼리 사칙연산. 문자열도 각자 더할 수 있고, 곱하기를 통해 반복도 가능하다."
      ],
      "metadata": {
        "colab": {
          "base_uri": "https://localhost:8080/",
          "height": 35
        },
        "id": "aJ0Aj534Qzng",
        "outputId": "7d2a2639-bfc5-4ca6-f276-ffff0d10b177"
      },
      "execution_count": null,
      "outputs": [
        {
          "output_type": "execute_result",
          "data": {
            "text/plain": [
              "'bdefefefefefefefefefef'"
            ],
            "application/vnd.google.colaboratory.intrinsic+json": {
              "type": "string"
            }
          },
          "metadata": {},
          "execution_count": 6
        }
      ]
    },
    {
      "cell_type": "code",
      "source": [
        "s.upper() #문자열 s를 모두 대문자로 바꾸는 메서드 upper"
      ],
      "metadata": {
        "colab": {
          "base_uri": "https://localhost:8080/",
          "height": 35
        },
        "id": "fn_OEphwQ0nL",
        "outputId": "3d2d79b8-5b6c-4144-d59f-05e8d4a9a597"
      },
      "execution_count": null,
      "outputs": [
        {
          "output_type": "execute_result",
          "data": {
            "text/plain": [
              "'ABCDEF'"
            ],
            "application/vnd.google.colaboratory.intrinsic+json": {
              "type": "string"
            }
          },
          "metadata": {},
          "execution_count": 7
        }
      ]
    },
    {
      "cell_type": "code",
      "source": [
        "s = ' this is a house built this year.\\n' \t#\\n은 줄바꿈 문자.\n",
        "s"
      ],
      "metadata": {
        "colab": {
          "base_uri": "https://localhost:8080/",
          "height": 35
        },
        "id": "f-iJeEK-Q2Qb",
        "outputId": "a0b2887e-d068-4b6b-f000-3cc8ccc895df"
      },
      "execution_count": null,
      "outputs": [
        {
          "output_type": "execute_result",
          "data": {
            "text/plain": [
              "' this is a house built this year.\\n'"
            ],
            "application/vnd.google.colaboratory.intrinsic+json": {
              "type": "string"
            }
          },
          "metadata": {},
          "execution_count": 8
        }
      ]
    },
    {
      "cell_type": "code",
      "source": [
        "result = s.find('house') \t    # index of first instance of string t inside s (-1 if not found) \n",
        "result #문자열 s에서 house가 위치한 인덱스 값을 찾는다."
      ],
      "metadata": {
        "colab": {
          "base_uri": "https://localhost:8080/"
        },
        "id": "oGbkg4jlQ3_B",
        "outputId": "0e935241-2056-45c5-8f3e-55702b9dd7f2"
      },
      "execution_count": null,
      "outputs": [
        {
          "output_type": "execute_result",
          "data": {
            "text/plain": [
              "11"
            ]
          },
          "metadata": {},
          "execution_count": 9
        }
      ]
    },
    {
      "cell_type": "code",
      "source": [
        "result = s.find('this')\t      # index of first instance of string t inside s (-1 if not found)\n",
        "result #문자열 s에서 this가 위치한 인덱스 값을 찾는다."
      ],
      "metadata": {
        "colab": {
          "base_uri": "https://localhost:8080/"
        },
        "id": "3upNYD8NQ46V",
        "outputId": "1dca918d-dbbd-439a-a40a-f37ff6c0ac2b"
      },
      "execution_count": null,
      "outputs": [
        {
          "output_type": "execute_result",
          "data": {
            "text/plain": [
              "1"
            ]
          },
          "metadata": {},
          "execution_count": 10
        }
      ]
    },
    {
      "cell_type": "code",
      "source": [
        "s = s.strip()      \t          # a copy of s without leading or trailing whitespace\n",
        "s #s에서 좌우 공백을 제거한 값을 다시 s로 저장한다."
      ],
      "metadata": {
        "colab": {
          "base_uri": "https://localhost:8080/",
          "height": 35
        },
        "id": "srh-N0pOQ5yL",
        "outputId": "490a28ee-9e9e-403d-f6ce-d4e00c1c80e0"
      },
      "execution_count": null,
      "outputs": [
        {
          "output_type": "execute_result",
          "data": {
            "text/plain": [
              "'this is a house built this year.'"
            ],
            "application/vnd.google.colaboratory.intrinsic+json": {
              "type": "string"
            }
          },
          "metadata": {},
          "execution_count": 11
        }
      ]
    },
    {
      "cell_type": "code",
      "source": [
        "tokens = s.split(' ')\t        # split s into a list wherever a t is found (whitespace by default)\n",
        "tokens #' '를 기준으로 문자열을 나누어 리스트의 원소로 저장한다."
      ],
      "metadata": {
        "colab": {
          "base_uri": "https://localhost:8080/"
        },
        "id": "3M7QZHoJQ6rE",
        "outputId": "148de237-d967-44ef-bd96-efb51f57e26f"
      },
      "execution_count": null,
      "outputs": [
        {
          "output_type": "execute_result",
          "data": {
            "text/plain": [
              "['this', 'is', 'a', 'house', 'built', 'this', 'year.']"
            ]
          },
          "metadata": {},
          "execution_count": 12
        }
      ]
    },
    {
      "cell_type": "code",
      "source": [
        "s = ' '.join(tokens)\t        # combine the words of the text into a string using s as the glue\n",
        "s #리스트를 문자열로 합치며 원소 사이에 ' '를 집어 넣는다."
      ],
      "metadata": {
        "colab": {
          "base_uri": "https://localhost:8080/",
          "height": 35
        },
        "id": "-kn95oLRQ7az",
        "outputId": "6f1ddf6f-abcc-4505-b3ca-87f414ad273a"
      },
      "execution_count": null,
      "outputs": [
        {
          "output_type": "execute_result",
          "data": {
            "text/plain": [
              "'this is a house built this year.'"
            ],
            "application/vnd.google.colaboratory.intrinsic+json": {
              "type": "string"
            }
          },
          "metadata": {},
          "execution_count": 13
        }
      ]
    },
    {
      "cell_type": "code",
      "source": [
        "s = s.replace('this', 'that') # replace instances of t with u inside s\n",
        "s #s 안에 있는 this를 that으로 바꾼다."
      ],
      "metadata": {
        "colab": {
          "base_uri": "https://localhost:8080/",
          "height": 35
        },
        "id": "ki00xCz7Q8RL",
        "outputId": "f85da7fb-c1a9-4340-f43a-f0845f1a36da"
      },
      "execution_count": null,
      "outputs": [
        {
          "output_type": "execute_result",
          "data": {
            "text/plain": [
              "'that is a house built that year.'"
            ],
            "application/vnd.google.colaboratory.intrinsic+json": {
              "type": "string"
            }
          },
          "metadata": {},
          "execution_count": 15
        }
      ]
    },
    {
      "cell_type": "markdown",
      "source": [
        "Import"
      ],
      "metadata": {
        "id": "vKSS0p-FSj8f"
      }
    },
    {
      "cell_type": "code",
      "source": [
        "import numpy as np #numpy라는 패키지를 np라는 이름으로 정의해 불러온다.\n",
        "n = np.random.randn(100) #numpy 패키지의 random이라는 모듈의 함수 randn를 통해 100개의 랜덤한 값을 n으로 저장한다."
      ],
      "metadata": {
        "id": "3DpY2eDKSppF"
      },
      "execution_count": null,
      "outputs": []
    },
    {
      "cell_type": "code",
      "source": [
        "import matplotlib  #matplotlib이라는 패키지를 불러온다.\n",
        "matplotlib.pyplot.hist(n) #matplolib의 pyplot 모듈의 hist 함수를 이용해 n으로 히스토그램을 만든다."
      ],
      "metadata": {
        "colab": {
          "base_uri": "https://localhost:8080/",
          "height": 357
        },
        "id": "OxETNLHBSvD7",
        "outputId": "64e1f5e8-433f-46ef-b178-85038cbc36fe"
      },
      "execution_count": null,
      "outputs": [
        {
          "output_type": "execute_result",
          "data": {
            "text/plain": [
              "(array([ 2.,  1.,  9.,  9., 18., 13., 19., 10., 16.,  3.]),\n",
              " array([-2.56401776, -2.14707683, -1.73013589, -1.31319495, -0.89625402,\n",
              "        -0.47931308, -0.06237215,  0.35456879,  0.77150973,  1.18845066,\n",
              "         1.6053916 ]),\n",
              " <a list of 10 Patch objects>)"
            ]
          },
          "metadata": {},
          "execution_count": 17
        },
        {
          "output_type": "display_data",
          "data": {
            "text/plain": [
              "<Figure size 432x288 with 1 Axes>"
            ],
            "image/png": "[encoded data removed]"
          },
          "metadata": {
            "needs_background": "light"
          }
        }
      ]
    },
    {
      "cell_type": "code",
      "source": [
        "import matplotlib.pyplot #matplotlib 패키지 안의 pyplot 모듈만 따로 불러온다.\n",
        "matplotlib.pyplot.hist(n) #마찬가지로 히스토그램을 만든다."
      ],
      "metadata": {
        "colab": {
          "base_uri": "https://localhost:8080/",
          "height": 357
        },
        "id": "lJmw5UBXSvKE",
        "outputId": "40d1270a-98e6-4d29-bd48-20e8ab997796"
      },
      "execution_count": null,
      "outputs": [
        {
          "output_type": "execute_result",
          "data": {
            "text/plain": [
              "(array([ 2.,  1.,  9.,  9., 18., 13., 19., 10., 16.,  3.]),\n",
              " array([-2.56401776, -2.14707683, -1.73013589, -1.31319495, -0.89625402,\n",
              "        -0.47931308, -0.06237215,  0.35456879,  0.77150973,  1.18845066,\n",
              "         1.6053916 ]),\n",
              " <a list of 10 Patch objects>)"
            ]
          },
          "metadata": {},
          "execution_count": 18
        },
        {
          "output_type": "display_data",
          "data": {
            "text/plain": [
              "<Figure size 432x288 with 1 Axes>"
            ],
            "image/png": "[encoded data removed]"
          },
          "metadata": {
            "needs_background": "light"
          }
        }
      ]
    },
    {
      "cell_type": "code",
      "source": [
        "import matplotlib.pyplot as plt #matplotlib 패키지 안의 pyplot 모듈을 plt라는 이름으로 정의해 불러온다.\n",
        "plt.hist(n) #마찬가지로 히스토그램을 만든다."
      ],
      "metadata": {
        "colab": {
          "base_uri": "https://localhost:8080/",
          "height": 357
        },
        "id": "H0QpuFhzSvPD",
        "outputId": "bff5ce1a-511b-4717-bfd7-2472782a1d7d"
      },
      "execution_count": null,
      "outputs": [
        {
          "output_type": "execute_result",
          "data": {
            "text/plain": [
              "(array([ 2.,  1.,  9.,  9., 18., 13., 19., 10., 16.,  3.]),\n",
              " array([-2.56401776, -2.14707683, -1.73013589, -1.31319495, -0.89625402,\n",
              "        -0.47931308, -0.06237215,  0.35456879,  0.77150973,  1.18845066,\n",
              "         1.6053916 ]),\n",
              " <a list of 10 Patch objects>)"
            ]
          },
          "metadata": {},
          "execution_count": 19
        },
        {
          "output_type": "display_data",
          "data": {
            "text/plain": [
              "<Figure size 432x288 with 1 Axes>"
            ],
            "image/png": "[encoded data removed]"
          },
          "metadata": {
            "needs_background": "light"
          }
        }
      ]
    },
    {
      "cell_type": "code",
      "source": [
        "from matplotlib import pyplot #matplotlib 패키지로부터 pyplot 모듈을 불러온다.\n",
        "pyplot.hist(n) #마찬가지로 히스토그램을 만든다. matplotlib을 pyplot 앞에 따로 쓰지 않아도 된다."
      ],
      "metadata": {
        "colab": {
          "base_uri": "https://localhost:8080/",
          "height": 357
        },
        "id": "n60qDv2KSvUt",
        "outputId": "9da8c7c8-8ae4-483e-9122-59f93e2ff4bb"
      },
      "execution_count": null,
      "outputs": [
        {
          "output_type": "execute_result",
          "data": {
            "text/plain": [
              "(array([ 2.,  1.,  9.,  9., 18., 13., 19., 10., 16.,  3.]),\n",
              " array([-2.56401776, -2.14707683, -1.73013589, -1.31319495, -0.89625402,\n",
              "        -0.47931308, -0.06237215,  0.35456879,  0.77150973,  1.18845066,\n",
              "         1.6053916 ]),\n",
              " <a list of 10 Patch objects>)"
            ]
          },
          "metadata": {},
          "execution_count": 20
        },
        {
          "output_type": "display_data",
          "data": {
            "text/plain": [
              "<Figure size 432x288 with 1 Axes>"
            ],
            "image/png": "[encoded data removed]"
          },
          "metadata": {
            "needs_background": "light"
          }
        }
      ]
    },
    {
      "cell_type": "code",
      "source": [
        "from matplotlib.pyplot import hist  #matplotlib 패키지 안의 pyplot 모듈로부터 함수 hist만 불러온다.\n",
        "hist(n) #마찬가지로 히스토그램을 만든다. 앞에 matplotlib.pyplot을 붙이지 않아도 된다."
      ],
      "metadata": {
        "colab": {
          "base_uri": "https://localhost:8080/",
          "height": 357
        },
        "id": "8UyXKSXLSvZS",
        "outputId": "8634c0f2-f1cc-4b0f-e171-4a9d84f9fb3b"
      },
      "execution_count": null,
      "outputs": [
        {
          "output_type": "execute_result",
          "data": {
            "text/plain": [
              "(array([ 2.,  1.,  9.,  9., 18., 13., 19., 10., 16.,  3.]),\n",
              " array([-2.56401776, -2.14707683, -1.73013589, -1.31319495, -0.89625402,\n",
              "        -0.47931308, -0.06237215,  0.35456879,  0.77150973,  1.18845066,\n",
              "         1.6053916 ]),\n",
              " <a list of 10 Patch objects>)"
            ]
          },
          "metadata": {},
          "execution_count": 21
        },
        {
          "output_type": "display_data",
          "data": {
            "text/plain": [
              "<Figure size 432x288 with 1 Axes>"
            ],
            "image/png": "[encoded data removed]"
          },
          "metadata": {
            "needs_background": "light"
          }
        }
      ]
    },
    {
      "cell_type": "markdown",
      "source": [
        "numpy_matplotlib"
      ],
      "metadata": {
        "id": "2Z3o7wZEWZjw"
      }
    },
    {
      "cell_type": "code",
      "source": [
        "import numpy as np #numpy 패키지를 np라는 이름으로 불러온다."
      ],
      "metadata": {
        "id": "7IlDR3pBWjW_"
      },
      "execution_count": null,
      "outputs": []
    },
    {
      "cell_type": "code",
      "source": [
        "x = np.array([1,2,3]) #변수 x를 넘파이 모듈의 array 함수를 이용해 리스트[1.2.3]을 np.ndarray 자료형의 배열로 만들어 저장한다.\n",
        "print(x)\n",
        "print(type(x)) #x의 class는 numpy 패키지에서 만든 numpy.ndarray이다.\n",
        "print(x.shape) #배열 x가 1차원의 3개 item을 가진 array라는 것을 뜻한다."
      ],
      "metadata": {
        "colab": {
          "base_uri": "https://localhost:8080/"
        },
        "id": "0wnMZL22Wo6a",
        "outputId": "031d1cce-9074-46ef-e545-3bc9db67e9c9"
      },
      "execution_count": null,
      "outputs": [
        {
          "output_type": "stream",
          "name": "stdout",
          "text": [
            "[1 2 3]\n",
            "<class 'numpy.ndarray'>\n",
            "(3,)\n"
          ]
        }
      ]
    },
    {
      "cell_type": "code",
      "source": [
        "x = np.arange(0,10,2) #0부터 10 전까지의 범위에서 2단위로 증가하는 값을 배열로 저장한다.\n",
        "print(x) \n",
        "print(type(x))\n",
        "print(x.shape) #배열 x가 1차원의 5개의 item을 가진 array라는 것을 뜻한다."
      ],
      "metadata": {
        "colab": {
          "base_uri": "https://localhost:8080/"
        },
        "id": "ODLJRS5cXfkU",
        "outputId": "49af192b-c43e-4afb-8c72-e7559968e146"
      },
      "execution_count": null,
      "outputs": [
        {
          "output_type": "stream",
          "name": "stdout",
          "text": [
            "[0 2 4 6 8]\n",
            "<class 'numpy.ndarray'>\n",
            "(5,)\n"
          ]
        }
      ]
    },
    {
      "cell_type": "code",
      "source": [
        "x = np.linspace(0,10,6) #0에서 10포함 10까지 사이를 동일한 공차로 증가하는 6개의 값으로 균등하게 나누어 배열로 저장한다.\n",
        "print(x)\n",
        "print(type(x))\n",
        "print(x.shape) #배열 x가 1차원의 6개의 item을 가진 array라는 것을 뜻한다."
      ],
      "metadata": {
        "colab": {
          "base_uri": "https://localhost:8080/"
        },
        "id": "VyEzqzE1XwOX",
        "outputId": "53c6bd12-49b0-43ef-cbbb-7337a52f8e8a"
      },
      "execution_count": null,
      "outputs": [
        {
          "output_type": "stream",
          "name": "stdout",
          "text": [
            "[ 0.  2.  4.  6.  8. 10.]\n",
            "<class 'numpy.ndarray'>\n",
            "(6,)\n"
          ]
        }
      ]
    },
    {
      "cell_type": "code",
      "source": [
        "x = np.array([[1,2,3], [4,5,6]]) #1행에 1 2 3을, 2행에 4 5 6을 저장한 2x3의 행렬을 만든다.\n",
        "print(x)\n",
        "print(type(x))\n",
        "print(x.shape) #배열 x가 2개의 행과 3개의 열을 가지고 있다."
      ],
      "metadata": {
        "colab": {
          "base_uri": "https://localhost:8080/"
        },
        "id": "3o89LekAYTKe",
        "outputId": "b0eedeae-7bad-4d40-a957-2eadcba72779"
      },
      "execution_count": null,
      "outputs": [
        {
          "output_type": "stream",
          "name": "stdout",
          "text": [
            "[[1 2 3]\n",
            " [4 5 6]]\n",
            "<class 'numpy.ndarray'>\n",
            "(2, 3)\n"
          ]
        }
      ]
    },
    {
      "cell_type": "code",
      "source": [
        "x = np.array([[[1,2,3], [4,5,6]], [[7,8,9], [10,11,12]]]) #2x3짜리 행렬을\n",
        "print(x)\n",
        "print(type(x))\n",
        "print(x.shape) #x는 3차원의 2행 3열이 2쌍 있는 꼴의 데이터이다."
      ],
      "metadata": {
        "colab": {
          "base_uri": "https://localhost:8080/"
        },
        "id": "jZ8Kmu3yjKGw",
        "outputId": "58d19e05-7bf5-46cd-a051-4dbc7a81c40a"
      },
      "execution_count": 28,
      "outputs": [
        {
          "output_type": "stream",
          "name": "stdout",
          "text": [
            "[[[ 1  2  3]\n",
            "  [ 4  5  6]]\n",
            "\n",
            " [[ 7  8  9]\n",
            "  [10 11 12]]]\n",
            "<class 'numpy.ndarray'>\n",
            "(2, 2, 3)\n"
          ]
        }
      ]
    },
    {
      "cell_type": "code",
      "source": [
        "x = np.ones([2, 2, 3]) #1들로 구성된 2x3의 행렬을 2쌍 만든다.\n",
        "print(x)\n",
        "print(type(x))\n",
        "print(x.shape)"
      ],
      "metadata": {
        "colab": {
          "base_uri": "https://localhost:8080/"
        },
        "id": "831AGMcOlK2H",
        "outputId": "ef5ef9c6-237c-4e7a-c1ae-429017183188"
      },
      "execution_count": 29,
      "outputs": [
        {
          "output_type": "stream",
          "name": "stdout",
          "text": [
            "[[[1. 1. 1.]\n",
            "  [1. 1. 1.]]\n",
            "\n",
            " [[1. 1. 1.]\n",
            "  [1. 1. 1.]]]\n",
            "<class 'numpy.ndarray'>\n",
            "(2, 2, 3)\n"
          ]
        }
      ]
    },
    {
      "cell_type": "code",
      "source": [
        "x = np.zeros([2, 2, 3]) #0들로 구성된 2x3의 행렬을 2쌍 만든다.\n",
        "print(x)\n",
        "print(type(x))\n",
        "print(x.shape)\n",
        "x.reshape(3,2,2) #아까 만든 x를 2x2의 행렬 3쌍으로 재배열한다."
      ],
      "metadata": {
        "colab": {
          "base_uri": "https://localhost:8080/"
        },
        "id": "jZQTmwHhlR5p",
        "outputId": "e0e3e39a-db9f-4dea-e445-bde7f86f02e4"
      },
      "execution_count": 30,
      "outputs": [
        {
          "output_type": "stream",
          "name": "stdout",
          "text": [
            "[[[0. 0. 0.]\n",
            "  [0. 0. 0.]]\n",
            "\n",
            " [[0. 0. 0.]\n",
            "  [0. 0. 0.]]]\n",
            "<class 'numpy.ndarray'>\n",
            "(2, 2, 3)\n"
          ]
        },
        {
          "output_type": "execute_result",
          "data": {
            "text/plain": [
              "array([[[0., 0.],\n",
              "        [0., 0.]],\n",
              "\n",
              "       [[0., 0.],\n",
              "        [0., 0.]],\n",
              "\n",
              "       [[0., 0.],\n",
              "        [0., 0.]]])"
            ]
          },
          "metadata": {},
          "execution_count": 30
        }
      ]
    },
    {
      "cell_type": "code",
      "source": [
        "np.random.normal(0, 1, [2,3,4]) #np.random.normal은(평균,표준편차,스케일)을 입력받는다. 평균이 0이고 표준편차가 1인 정규분포로부터 임의의 숫자들로 3x4짜리 행렬 2쌍을 만든다."
      ],
      "metadata": {
        "colab": {
          "base_uri": "https://localhost:8080/"
        },
        "id": "5BlqkqaulbVK",
        "outputId": "bbf7fe9c-c2c2-486e-b9e9-b10522be3094"
      },
      "execution_count": 31,
      "outputs": [
        {
          "output_type": "execute_result",
          "data": {
            "text/plain": [
              "array([[[ 0.40003637, -0.48350662, -1.20306179, -1.34966006],\n",
              "        [-0.80666611, -0.64170003,  0.92599226,  1.28866385],\n",
              "        [ 0.46713364,  0.85510015,  0.09359281, -0.87872003]],\n",
              "\n",
              "       [[ 0.55816735, -0.48871409,  0.81140396,  0.89923012],\n",
              "        [ 0.57992594, -0.1313067 , -0.87216545, -0.54276123],\n",
              "        [-0.27153882,  0.73150895, -0.94036692, -1.148731  ]]])"
            ]
          },
          "metadata": {},
          "execution_count": 31
        }
      ]
    },
    {
      "cell_type": "code",
      "source": [
        "import matplotlib.pyplot as plt #matplotlib 패키지의 pyplot 모듈을 plt라는 이름으로 불러온다."
      ],
      "metadata": {
        "id": "v7msoL1BmBA6"
      },
      "execution_count": 34,
      "outputs": []
    },
    {
      "cell_type": "code",
      "source": [
        "x = np.random.normal(0, 1, 100) #평균이 0, 표준편차가 1인 정규분포로부터 임의의 값 100개로 이루어진 배열을 만든다.\n",
        "print(x)\n",
        "plt.hist(x, bins=10) #x의 값들을 10개의 막대를 가진 히스토그램으로 만든다."
      ],
      "metadata": {
        "colab": {
          "base_uri": "https://localhost:8080/",
          "height": 669
        },
        "id": "LdDfcgs0mHxD",
        "outputId": "4a7d13da-749a-40dd-fca9-9ef6102b0283"
      },
      "execution_count": 36,
      "outputs": [
        {
          "output_type": "stream",
          "name": "stdout",
          "text": [
            "[ 0.60295216 -1.37788643  1.1423593   0.40735415 -2.13502878 -0.78583562\n",
            " -0.76228727  1.42188138  0.41766984  0.23914    -1.27186497 -0.35738867\n",
            "  0.20375206  0.26650425  0.0608471  -0.21472604 -0.10287524 -1.01592718\n",
            "  1.0149412  -0.50466702  0.38929351  0.61145602  0.15849076  2.18676541\n",
            "  1.17664871 -0.81120805 -0.51455854 -0.24852071 -0.09227383  0.91890297\n",
            "  0.61076883  0.22415414 -1.36340665  1.59728022  1.27174625  2.24026142\n",
            "  0.27405257  0.37430427  2.76662083 -0.98466059 -1.1195069   0.33870479\n",
            "  0.32264445  2.57526507  0.82702248 -0.64995629  0.71884651 -2.17495815\n",
            " -1.22532939 -0.07542112 -0.21871626  0.10882775 -0.84665006 -0.63420036\n",
            " -0.14479684 -0.37984958 -0.3451129  -0.41440825  1.422275   -2.67730496\n",
            " -0.15439622 -1.300379   -0.16600513  0.00363571 -0.05465825  1.03406251\n",
            "  1.01928214  0.83935641 -1.33242413 -1.58529451  1.21242326 -0.81231837\n",
            "  0.79014578  0.49849013  0.98684492  0.35492709  0.0146745  -0.35891903\n",
            " -0.07460201 -0.69829184 -1.18199176  0.13660965 -0.12940516 -0.1836932\n",
            " -1.64700286  0.87923501  0.429355    0.18605594  0.54073741 -1.01547349\n",
            " -0.07358094  0.5046331  -1.02745523  0.85782307 -0.10649119  0.93535552\n",
            " -0.3754376   0.15068061 -0.48173132 -0.18220335]\n"
          ]
        },
        {
          "output_type": "execute_result",
          "data": {
            "text/plain": [
              "(array([ 3.,  1.,  9., 14., 25., 22., 15.,  7.,  1.,  3.]),\n",
              " array([-2.67730496, -2.13291238, -1.5885198 , -1.04412722, -0.49973464,\n",
              "         0.04465794,  0.58905052,  1.1334431 ,  1.67783568,  2.22222825,\n",
              "         2.76662083]),\n",
              " <a list of 10 Patch objects>)"
            ]
          },
          "metadata": {},
          "execution_count": 36
        },
        {
          "output_type": "display_data",
          "data": {
            "text/plain": [
              "<Figure size 432x288 with 1 Axes>"
            ],
            "image/png": "[encoded data removed]"
          },
          "metadata": {
            "needs_background": "light"
          }
        }
      ]
    },
    {
      "cell_type": "code",
      "source": [
        "plt.figure() #figure은 그림 그리는 캔버스 같은 것. 이를 만든다.\n",
        "\n",
        "theta1 = np.linspace(0, 2*np.pi, 100) #pi값은 내장되어 있지 않기에 np모듈에서 가져온다. 0에서 2pi(360도)까지의 값을 동일 간격으로 100등분해서 쪼갠다. 이를 theta1에 저장한다.\n",
        "s1 = np.sin(theta1) #theta1의 sin값들을 s1로 저장한다.\n",
        "theta2 = np.linspace(0, 2*np.pi, 100) + np.pi/2 #  0에서 2pi(360도)까지의 값을 동일 간격으로 100등분해서 쪼갠다. 여기에 pi/2(90도) 값을 더한 값을 theta2에 저장한다.\n",
        "s2 = np.sin(theta2) #theta2의 sin값들을 s2로 저장한다.\n",
        "\n",
        "plt.subplot(2, 1, 1) # (rows, columns, panel number). 2행 1열짜리 공간에서 첫번째 칸을 활용한다.\n",
        "plt.plot(theta1, s1, '.') #x축 = theta1, y축 = s1, .(점)으로 그림을 그린다.\n",
        "plt.subplot(2, 1, 2) # (rows, columns, panel number) 2행 1열짜리 공간에서 두번째 칸을 활용한다.\n",
        "plt.plot(theta2, s2, '.') #x축 = theta2, y축 = s2, .(점)으로 그림을 그린다."
      ],
      "metadata": {
        "colab": {
          "base_uri": "https://localhost:8080/",
          "height": 283
        },
        "id": "gk5_K8Thm2ZZ",
        "outputId": "7f43b27d-4f3e-46dd-ac91-06353a9f12f2"
      },
      "execution_count": 37,
      "outputs": [
        {
          "output_type": "execute_result",
          "data": {
            "text/plain": [
              "[<matplotlib.lines.Line2D at 0x7f85a94858d0>]"
            ]
          },
          "metadata": {},
          "execution_count": 37
        },
        {
          "output_type": "display_data",
          "data": {
            "text/plain": [
              "<Figure size 432x288 with 2 Axes>"
            ],
            "image/png": "[encoded data removed]"
          },
          "metadata": {
            "needs_background": "light"
          }
        }
      ]
    }
  ]
}