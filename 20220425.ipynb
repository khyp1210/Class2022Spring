{
  "nbformat": 4,
  "nbformat_minor": 0,
  "metadata": {
    "colab": {
      "name": "20220425.ipynb ",
      "provenance": [],
      "include_colab_link": true
    },
    "kernelspec": {
      "name": "python3",
      "display_name": "Python 3"
    },
    "language_info": {
      "name": "python"
    }
  },
  "cells": [
    {
      "cell_type": "markdown",
      "metadata": {
        "id": "view-in-github",
        "colab_type": "text"
      },
      "source": [
        "<a href=\"https://colab.research.google.com/github/khyp1210/Class2022Spring/blob/main/20220425.ipynb\" target=\"_parent\"><img src=\"https://colab.research.google.com/assets/colab-badge.svg\" alt=\"Open In Colab\"/></a>"
      ]
    },
    {
      "cell_type": "markdown",
      "source": [
        "* auto-correlation\n",
        " 어떤 확률변수가 시간이동된 자기자신에 대해 가지는 상관성의 척도이다."
      ],
      "metadata": {
        "id": "PauXvJk9MtMo"
      }
    },
    {
      "cell_type": "markdown",
      "source": [
        " * RMS Root Mean Square의 약자로 각 변량의 제곱을 평균한 값에 루트를 씌운 값이다. 제곱 값을 활용한 상대값이기에 변수가 음 양 값을 골고루 가질 때 사용하기 좋다. "
      ],
      "metadata": {
        "id": "hMccOuqaMzrc"
      }
    }
  ]
}