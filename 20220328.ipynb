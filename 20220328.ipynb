{
  "nbformat": 4,
  "nbformat_minor": 0,
  "metadata": {
    "colab": {
      "name": "requests_gradio.ipynb의 사본",
      "provenance": [],
      "include_colab_link": true
    },
    "kernelspec": {
      "name": "python3",
      "display_name": "Python 3"
    },
    "language_info": {
      "name": "python"
    }
  },
  "cells": [
    {
      "cell_type": "markdown",
      "metadata": {
        "id": "view-in-github",
        "colab_type": "text"
      },
      "source": [
        "<a href=\"https://colab.research.google.com/github/khyp1210/Class2022Spring/blob/main/20220328.ipynb\" target=\"_parent\"><img src=\"https://colab.research.google.com/assets/colab-badge.svg\" alt=\"Open In Colab\"/></a>"
      ]
    },
    {
      "cell_type": "code",
      "source": [
        "!pip install gradio\n",
        "import gradio as gr\n",
        "import requests\n",
        "import pandas as pd"
      ],
      "metadata": {
        "id": "8eZHGJhmqd9a",
        "outputId": "86b145cf-aa25-42be-a071-fd4fce4f1cd2",
        "colab": {
          "base_uri": "https://localhost:8080/"
        }
      },
      "execution_count": null,
      "outputs": [
        {
          "output_type": "stream",
          "name": "stdout",
          "text": [
            "Requirement already satisfied: gradio in /usr/local/lib/python3.7/dist-packages (2.9.1)\n",
            "Requirement already satisfied: fastapi in /usr/local/lib/python3.7/dist-packages (from gradio) (0.75.1)\n",
            "Requirement already satisfied: numpy in /usr/local/lib/python3.7/dist-packages (from gradio) (1.21.5)\n",
            "Requirement already satisfied: matplotlib in /usr/local/lib/python3.7/dist-packages (from gradio) (3.2.2)\n",
            "Requirement already satisfied: pandas in /usr/local/lib/python3.7/dist-packages (from gradio) (1.3.5)\n",
            "Requirement already satisfied: uvicorn in /usr/local/lib/python3.7/dist-packages (from gradio) (0.17.6)\n",
            "Requirement already satisfied: paramiko in /usr/local/lib/python3.7/dist-packages (from gradio) (2.10.3)\n",
            "Requirement already satisfied: markdown-it-py[linkify,plugins] in /usr/local/lib/python3.7/dist-packages (from gradio) (2.0.1)\n",
            "Requirement already satisfied: analytics-python in /usr/local/lib/python3.7/dist-packages (from gradio) (1.4.0)\n",
            "Requirement already satisfied: orjson in /usr/local/lib/python3.7/dist-packages (from gradio) (3.6.7)\n",
            "Requirement already satisfied: pycryptodome in /usr/local/lib/python3.7/dist-packages (from gradio) (3.14.1)\n",
            "Requirement already satisfied: requests in /usr/local/lib/python3.7/dist-packages (from gradio) (2.23.0)\n",
            "Requirement already satisfied: aiohttp in /usr/local/lib/python3.7/dist-packages (from gradio) (3.8.1)\n",
            "Requirement already satisfied: pydub in /usr/local/lib/python3.7/dist-packages (from gradio) (0.25.1)\n",
            "Requirement already satisfied: python-multipart in /usr/local/lib/python3.7/dist-packages (from gradio) (0.0.5)\n",
            "Requirement already satisfied: pillow in /usr/local/lib/python3.7/dist-packages (from gradio) (7.1.2)\n",
            "Requirement already satisfied: ffmpy in /usr/local/lib/python3.7/dist-packages (from gradio) (0.3.0)\n",
            "Requirement already satisfied: attrs>=17.3.0 in /usr/local/lib/python3.7/dist-packages (from aiohttp->gradio) (21.4.0)\n",
            "Requirement already satisfied: asynctest==0.13.0 in /usr/local/lib/python3.7/dist-packages (from aiohttp->gradio) (0.13.0)\n",
            "Requirement already satisfied: async-timeout<5.0,>=4.0.0a3 in /usr/local/lib/python3.7/dist-packages (from aiohttp->gradio) (4.0.2)\n",
            "Requirement already satisfied: charset-normalizer<3.0,>=2.0 in /usr/local/lib/python3.7/dist-packages (from aiohttp->gradio) (2.0.12)\n",
            "Requirement already satisfied: frozenlist>=1.1.1 in /usr/local/lib/python3.7/dist-packages (from aiohttp->gradio) (1.3.0)\n",
            "Requirement already satisfied: multidict<7.0,>=4.5 in /usr/local/lib/python3.7/dist-packages (from aiohttp->gradio) (6.0.2)\n",
            "Requirement already satisfied: typing-extensions>=3.7.4 in /usr/local/lib/python3.7/dist-packages (from aiohttp->gradio) (3.10.0.2)\n",
            "Requirement already satisfied: yarl<2.0,>=1.0 in /usr/local/lib/python3.7/dist-packages (from aiohttp->gradio) (1.7.2)\n",
            "Requirement already satisfied: aiosignal>=1.1.2 in /usr/local/lib/python3.7/dist-packages (from aiohttp->gradio) (1.2.0)\n",
            "Requirement already satisfied: idna>=2.0 in /usr/local/lib/python3.7/dist-packages (from yarl<2.0,>=1.0->aiohttp->gradio) (2.10)\n",
            "Requirement already satisfied: monotonic>=1.5 in /usr/local/lib/python3.7/dist-packages (from analytics-python->gradio) (1.6)\n",
            "Requirement already satisfied: backoff==1.10.0 in /usr/local/lib/python3.7/dist-packages (from analytics-python->gradio) (1.10.0)\n",
            "Requirement already satisfied: six>=1.5 in /usr/local/lib/python3.7/dist-packages (from analytics-python->gradio) (1.15.0)\n",
            "Requirement already satisfied: python-dateutil>2.1 in /usr/local/lib/python3.7/dist-packages (from analytics-python->gradio) (2.8.2)\n",
            "Requirement already satisfied: certifi>=2017.4.17 in /usr/local/lib/python3.7/dist-packages (from requests->gradio) (2021.10.8)\n",
            "Requirement already satisfied: urllib3!=1.25.0,!=1.25.1,<1.26,>=1.21.1 in /usr/local/lib/python3.7/dist-packages (from requests->gradio) (1.24.3)\n",
            "Requirement already satisfied: chardet<4,>=3.0.2 in /usr/local/lib/python3.7/dist-packages (from requests->gradio) (3.0.4)\n",
            "Requirement already satisfied: pydantic!=1.7,!=1.7.1,!=1.7.2,!=1.7.3,!=1.8,!=1.8.1,<2.0.0,>=1.6.2 in /usr/local/lib/python3.7/dist-packages (from fastapi->gradio) (1.9.0)\n",
            "Requirement already satisfied: starlette==0.17.1 in /usr/local/lib/python3.7/dist-packages (from fastapi->gradio) (0.17.1)\n",
            "Requirement already satisfied: anyio<4,>=3.0.0 in /usr/local/lib/python3.7/dist-packages (from starlette==0.17.1->fastapi->gradio) (3.5.0)\n",
            "Requirement already satisfied: sniffio>=1.1 in /usr/local/lib/python3.7/dist-packages (from anyio<4,>=3.0.0->starlette==0.17.1->fastapi->gradio) (1.2.0)\n",
            "Requirement already satisfied: mdurl~=0.1 in /usr/local/lib/python3.7/dist-packages (from markdown-it-py[linkify,plugins]->gradio) (0.1.0)\n",
            "Requirement already satisfied: mdit-py-plugins in /usr/local/lib/python3.7/dist-packages (from markdown-it-py[linkify,plugins]->gradio) (0.3.0)\n",
            "Requirement already satisfied: linkify-it-py~=1.0 in /usr/local/lib/python3.7/dist-packages (from markdown-it-py[linkify,plugins]->gradio) (1.0.3)\n",
            "Requirement already satisfied: uc-micro-py in /usr/local/lib/python3.7/dist-packages (from linkify-it-py~=1.0->markdown-it-py[linkify,plugins]->gradio) (1.0.1)\n",
            "Requirement already satisfied: kiwisolver>=1.0.1 in /usr/local/lib/python3.7/dist-packages (from matplotlib->gradio) (1.4.0)\n",
            "Requirement already satisfied: pyparsing!=2.0.4,!=2.1.2,!=2.1.6,>=2.0.1 in /usr/local/lib/python3.7/dist-packages (from matplotlib->gradio) (3.0.7)\n",
            "Requirement already satisfied: cycler>=0.10 in /usr/local/lib/python3.7/dist-packages (from matplotlib->gradio) (0.11.0)\n",
            "Requirement already satisfied: pytz>=2017.3 in /usr/local/lib/python3.7/dist-packages (from pandas->gradio) (2018.9)\n",
            "Requirement already satisfied: cryptography>=2.5 in /usr/local/lib/python3.7/dist-packages (from paramiko->gradio) (36.0.2)\n",
            "Requirement already satisfied: bcrypt>=3.1.3 in /usr/local/lib/python3.7/dist-packages (from paramiko->gradio) (3.2.0)\n",
            "Requirement already satisfied: pynacl>=1.0.1 in /usr/local/lib/python3.7/dist-packages (from paramiko->gradio) (1.5.0)\n",
            "Requirement already satisfied: cffi>=1.1 in /usr/local/lib/python3.7/dist-packages (from bcrypt>=3.1.3->paramiko->gradio) (1.15.0)\n",
            "Requirement already satisfied: pycparser in /usr/local/lib/python3.7/dist-packages (from cffi>=1.1->bcrypt>=3.1.3->paramiko->gradio) (2.21)\n",
            "Requirement already satisfied: h11>=0.8 in /usr/local/lib/python3.7/dist-packages (from uvicorn->gradio) (0.13.0)\n",
            "Requirement already satisfied: click>=7.0 in /usr/local/lib/python3.7/dist-packages (from uvicorn->gradio) (7.1.2)\n",
            "Requirement already satisfied: asgiref>=3.4.0 in /usr/local/lib/python3.7/dist-packages (from uvicorn->gradio) (3.5.0)\n"
          ]
        }
      ]
    },
    {
      "cell_type": "code",
      "source": [
        "URL = ('http://apis.data.go.kr/3450000/bukguDulleRoadService/'\n",
        "      'getBukguDulleRoad?'\n",
        "      '&currentPage=1'\n",
        "      '&perPage=10'\n",
        "      '&serviceKey=bTD6YoyKzt6rdztOEjv8Jfqd3cCZYxRP8VlNKqsZPcniE9%2BgVp9RHxPbhf6b0hizKdt0OKJsmfqYy%2B7hygDkLQ%3D%3D')\n",
        "response = requests.get(URL)"
      ],
      "metadata": {
        "id": "lHHEwqpyJF7r"
      },
      "execution_count": null,
      "outputs": []
    },
    {
      "cell_type": "code",
      "source": [
        "response"
      ],
      "metadata": {
        "id": "PzuwJgHyJC2u",
        "outputId": "19127bf5-769c-4429-8aa1-aadc4887c292",
        "colab": {
          "base_uri": "https://localhost:8080/"
        }
      },
      "execution_count": null,
      "outputs": [
        {
          "output_type": "execute_result",
          "data": {
            "text/plain": [
              "<Response [200]>"
            ]
          },
          "metadata": {},
          "execution_count": 38
        }
      ]
    },
    {
      "cell_type": "code",
      "source": [
        "r = response.json()\n",
        "r"
      ],
      "metadata": {
        "id": "JcLKwg0foR9p",
        "outputId": "3fe0ed5d-ff00-431e-f599-d4dff9fa415f",
        "colab": {
          "base_uri": "https://localhost:8080/"
        }
      },
      "execution_count": null,
      "outputs": [
        {
          "output_type": "execute_result",
          "data": {
            "text/plain": [
              "{'body': [{'DSTNC': 5.8,\n",
              "   'MNTN_NM': '도덕산',\n",
              "   'REQRE_TIME': 3.5,\n",
              "   'ROUTE': '서리지 입구 ~ 도덕산',\n",
              "   'SN': 1},\n",
              "  {'DSTNC': 5.1,\n",
              "   'MNTN_NM': '도덕산',\n",
              "   'REQRE_TIME': 3.0,\n",
              "   'ROUTE': '도남택지개발지구 ~ 도덕산 ',\n",
              "   'SN': 2},\n",
              "  {'DSTNC': 7.0,\n",
              "   'MNTN_NM': '도덕산',\n",
              "   'REQRE_TIME': 4.5,\n",
              "   'ROUTE': '국우터널 ~ 도덕산',\n",
              "   'SN': 3},\n",
              "  {'DSTNC': 5.8,\n",
              "   'MNTN_NM': '도덕산',\n",
              "   'REQRE_TIME': 3.5,\n",
              "   'ROUTE': '연경지구(광해군태실) ~ 도덕산',\n",
              "   'SN': 4},\n",
              "  {'DSTNC': 5.6,\n",
              "   'MNTN_NM': '도덕산',\n",
              "   'REQRE_TIME': 3.5,\n",
              "   'ROUTE': '연경지구 ~ 응해산 ~ 도덕지',\n",
              "   'SN': 5},\n",
              "  {'DSTNC': 6.3,\n",
              "   'MNTN_NM': '명봉산',\n",
              "   'REQRE_TIME': 3.0,\n",
              "   'ROUTE': '양지마을 입구 ~ 명봉산 ~ 안양지',\n",
              "   'SN': 6},\n",
              "  {'DSTNC': 6.0,\n",
              "   'MNTN_NM': '명봉산',\n",
              "   'REQRE_TIME': 3.0,\n",
              "   'ROUTE': '강북테니스장 ~ 명봉산 ~ 안양지',\n",
              "   'SN': 7},\n",
              "  {'DSTNC': 3.0,\n",
              "   'MNTN_NM': '태복산',\n",
              "   'REQRE_TIME': 1.5,\n",
              "   'ROUTE': '천년나무8단지아파트 ~ 백세정 ~ 태복산 ',\n",
              "   'SN': 8},\n",
              "  {'DSTNC': 1.8,\n",
              "   'MNTN_NM': '태복산',\n",
              "   'REQRE_TIME': 1.0,\n",
              "   'ROUTE': '내곡근린공원 ~ 백세정 ~ 태복산 ~ ',\n",
              "   'SN': 9},\n",
              "  {'DSTNC': 1.0,\n",
              "   'MNTN_NM': '태복산',\n",
              "   'REQRE_TIME': 0.5,\n",
              "   'ROUTE': '매천초등학교 ~ 느티나무삼거리 ~ 태복산',\n",
              "   'SN': 10}],\n",
              " 'header': {'currentPage': 1,\n",
              "  'perPage': 10,\n",
              "  'resultCode': '00',\n",
              "  'resultMsg': 'NORMAL_SERVICE',\n",
              "  'totalRows': 31}}"
            ]
          },
          "metadata": {},
          "execution_count": 39
        }
      ]
    },
    {
      "cell_type": "code",
      "source": [
        "items = r['body']\n",
        "items"
      ],
      "metadata": {
        "id": "W8lA0-IzE55W",
        "outputId": "7c4213cf-0f2d-4787-b6aa-7fc0733b6a5c",
        "colab": {
          "base_uri": "https://localhost:8080/"
        }
      },
      "execution_count": null,
      "outputs": [
        {
          "output_type": "execute_result",
          "data": {
            "text/plain": [
              "[{'DSTNC': 5.8,\n",
              "  'MNTN_NM': '도덕산',\n",
              "  'REQRE_TIME': 3.5,\n",
              "  'ROUTE': '서리지 입구 ~ 도덕산',\n",
              "  'SN': 1},\n",
              " {'DSTNC': 5.1,\n",
              "  'MNTN_NM': '도덕산',\n",
              "  'REQRE_TIME': 3.0,\n",
              "  'ROUTE': '도남택지개발지구 ~ 도덕산 ',\n",
              "  'SN': 2},\n",
              " {'DSTNC': 7.0,\n",
              "  'MNTN_NM': '도덕산',\n",
              "  'REQRE_TIME': 4.5,\n",
              "  'ROUTE': '국우터널 ~ 도덕산',\n",
              "  'SN': 3},\n",
              " {'DSTNC': 5.8,\n",
              "  'MNTN_NM': '도덕산',\n",
              "  'REQRE_TIME': 3.5,\n",
              "  'ROUTE': '연경지구(광해군태실) ~ 도덕산',\n",
              "  'SN': 4},\n",
              " {'DSTNC': 5.6,\n",
              "  'MNTN_NM': '도덕산',\n",
              "  'REQRE_TIME': 3.5,\n",
              "  'ROUTE': '연경지구 ~ 응해산 ~ 도덕지',\n",
              "  'SN': 5},\n",
              " {'DSTNC': 6.3,\n",
              "  'MNTN_NM': '명봉산',\n",
              "  'REQRE_TIME': 3.0,\n",
              "  'ROUTE': '양지마을 입구 ~ 명봉산 ~ 안양지',\n",
              "  'SN': 6},\n",
              " {'DSTNC': 6.0,\n",
              "  'MNTN_NM': '명봉산',\n",
              "  'REQRE_TIME': 3.0,\n",
              "  'ROUTE': '강북테니스장 ~ 명봉산 ~ 안양지',\n",
              "  'SN': 7},\n",
              " {'DSTNC': 3.0,\n",
              "  'MNTN_NM': '태복산',\n",
              "  'REQRE_TIME': 1.5,\n",
              "  'ROUTE': '천년나무8단지아파트 ~ 백세정 ~ 태복산 ',\n",
              "  'SN': 8},\n",
              " {'DSTNC': 1.8,\n",
              "  'MNTN_NM': '태복산',\n",
              "  'REQRE_TIME': 1.0,\n",
              "  'ROUTE': '내곡근린공원 ~ 백세정 ~ 태복산 ~ ',\n",
              "  'SN': 9},\n",
              " {'DSTNC': 1.0,\n",
              "  'MNTN_NM': '태복산',\n",
              "  'REQRE_TIME': 0.5,\n",
              "  'ROUTE': '매천초등학교 ~ 느티나무삼거리 ~ 태복산',\n",
              "  'SN': 10}]"
            ]
          },
          "metadata": {},
          "execution_count": 41
        }
      ]
    },
    {
      "cell_type": "code",
      "source": [
        "items[0]"
      ],
      "metadata": {
        "id": "j8wz3b4-NgEC",
        "outputId": "5564a07d-ec78-436e-ccab-7d5bf2573396",
        "colab": {
          "base_uri": "https://localhost:8080/"
        }
      },
      "execution_count": null,
      "outputs": [
        {
          "output_type": "execute_result",
          "data": {
            "text/plain": [
              "{'DSTNC': 5.8,\n",
              " 'MNTN_NM': '도덕산',\n",
              " 'REQRE_TIME': 3.5,\n",
              " 'ROUTE': '서리지 입구 ~ 도덕산',\n",
              " 'SN': 1}"
            ]
          },
          "metadata": {},
          "execution_count": 46
        }
      ]
    },
    {
      "cell_type": "code",
      "source": [
        "def test(SN):\n",
        "  URL = ('http://apis.data.go.kr/3450000/bukguDulleRoadService/'\n",
        "      'getBukguDulleRoad?'\n",
        "      '&currentPage=1'\n",
        "      '&perPage=10'\n",
        "      '&SN='+SN+\n",
        "      '&serviceKey=bTD6YoyKzt6rdztOEjv8Jfqd3cCZYxRP8VlNKqsZPcniE9%2BgVp9RHxPbhf6b0hizKdt0OKJsmfqYy%2B7hygDkLQ%3D%3D')\n",
        "  \n",
        "  response = requests.get(URL)\n",
        "  r = response.json()\n",
        "  items = r['body']\n",
        "\n",
        "  MNTN_NM = [item['MNTN_NM'] for item in items]\n",
        "  ROUTE = [item['ROUTE'] for item in items]\n",
        "  REQRE_TIME = [item['REQRE_TIME'] for item in items]\n",
        "\n",
        "  MNTN_NM = pd.Series(MNTN_NM)\n",
        "  ROUTE = pd.Series(ROUTE)   \n",
        "  REQRE_TIME = pd.Series(REQRE_TIME)\n",
        "\n",
        "  df = pd.DataFrame({ 'MNTN_NM': MNTN_NM, 'ROUTE': ROUTE, 'REQRE_TIME':REQRE_TIME})\n",
        "  return df"
      ],
      "metadata": {
        "id": "xa2Gb_qsm_G5"
      },
      "execution_count": null,
      "outputs": []
    },
    {
      "cell_type": "code",
      "source": [
        "iface = gr.Interface(test, gr.inputs.Dropdown(['1', '2', '3', '4', '5','6','7','8','9','10']), outputs=['dataframe'])\n",
        "iface.launch(debug=True)"
      ],
      "metadata": {
        "id": "kxORJVPOnDSP",
        "outputId": "fdbcbf9a-6b01-4e9c-ca7f-ece20eba7db0",
        "colab": {
          "base_uri": "https://localhost:8080/",
          "height": 594
        }
      },
      "execution_count": null,
      "outputs": [
        {
          "output_type": "stream",
          "name": "stdout",
          "text": [
            "Colab notebook detected. This cell will run indefinitely so that you can see errors and logs. To turn off, set debug=False in launch().\n",
            "Running on public URL: https://18909.gradio.app\n",
            "\n",
            "This share link expires in 72 hours. For free permanent hosting, check out Spaces (https://huggingface.co/spaces)\n"
          ]
        },
        {
          "output_type": "display_data",
          "data": {
            "text/plain": [
              "<IPython.lib.display.IFrame at 0x7f6a35e4a7d0>"
            ],
            "text/html": [
              "\n",
              "        <iframe\n",
              "            width=\"900\"\n",
              "            height=\"500\"\n",
              "            src=\"https://18909.gradio.app\"\n",
              "            frameborder=\"0\"\n",
              "            allowfullscreen\n",
              "        ></iframe>\n",
              "        "
            ]
          },
          "metadata": {}
        }
      ]
    }
  ]
}